{
 "cells": [
  {
   "cell_type": "code",
   "execution_count": 1,
   "id": "da9f3f4d-27a2-4214-9f8f-4b631812a118",
   "metadata": {},
   "outputs": [
    {
     "name": "stdin",
     "output_type": "stream",
     "text": [
      "Enter length:  10\n",
      "Enter breadth:  20\n"
     ]
    },
    {
     "name": "stdout",
     "output_type": "stream",
     "text": [
      "It is not a square.\n"
     ]
    }
   ],
   "source": [
    "# Question 1: Check if rectangle is square\n",
    "length = float(input(\"Enter length: \"))\n",
    "breadth = float(input(\"Enter breadth: \"))\n",
    "if length == breadth:\n",
    "    print(\"It is a square.\")\n",
    "else:\n",
    "    print(\"It is not a square.\")"
   ]
  },
  {
   "cell_type": "code",
   "execution_count": 2,
   "id": "1b25477c-bb50-4885-af9c-9449bc4df2e9",
   "metadata": {},
   "outputs": [
    {
     "name": "stdin",
     "output_type": "stream",
     "text": [
      "Enter first number:  10\n",
      "Enter second number:  20\n",
      "Enter third number:  5\n"
     ]
    },
    {
     "name": "stdout",
     "output_type": "stream",
     "text": [
      "Greatest number: 20.0\n"
     ]
    }
   ],
   "source": [
    "# Question 2: Find greatest among three numbers\n",
    "a = float(input(\"Enter first number: \"))\n",
    "b = float(input(\"Enter second number: \"))\n",
    "c = float(input(\"Enter third number: \"))\n",
    "\n",
    "if a >= b and a >= c:\n",
    "    print(\"Greatest number:\", a)\n",
    "elif b >= c:\n",
    "    print(\"Greatest number:\", b)\n",
    "else:\n",
    "    print(\"Greatest number:\", c)"
   ]
  },
  {
   "cell_type": "code",
   "execution_count": 3,
   "id": "ba3121f0-87d2-439f-94f5-561b907f4e50",
   "metadata": {},
   "outputs": [
    {
     "name": "stdin",
     "output_type": "stream",
     "text": [
      "Enter attendance percentage:  19\n"
     ]
    },
    {
     "name": "stdout",
     "output_type": "stream",
     "text": [
      "Not allowed to sit in exam.\n"
     ]
    }
   ],
   "source": [
    "# Question 3: Attendance check\n",
    "attendance = float(input(\"Enter attendance percentage: \"))\n",
    "if attendance < 75:\n",
    "    print(\"Not allowed to sit in exam.\")\n",
    "else:\n",
    "    print(\"Allowed to sit in exam.\")"
   ]
  },
  {
   "cell_type": "code",
   "execution_count": 4,
   "id": "adbf6d6a-d3fd-4a31-b670-167a984f8ea7",
   "metadata": {},
   "outputs": [
    {
     "name": "stdin",
     "output_type": "stream",
     "text": [
      "Enter your marks:  88\n"
     ]
    },
    {
     "name": "stdout",
     "output_type": "stream",
     "text": [
      "Your grade is: A\n"
     ]
    }
   ],
   "source": [
    "# Question 4: Grading system\n",
    "marks = float(input(\"Enter your marks: \"))\n",
    "if marks < 25:\n",
    "    grade = \"F\"\n",
    "elif marks <= 44:\n",
    "    grade = \"E\"\n",
    "elif marks <= 49:\n",
    "    grade = \"D\"\n",
    "elif marks <= 59:\n",
    "    grade = \"C\"\n",
    "elif marks <= 79:\n",
    "    grade = \"B\"\n",
    "elif marks <= 89:\n",
    "    grade = \"A\"\n",
    "else:\n",
    "    grade = \"A+\"\n",
    "\n",
    "print(\"Your grade is:\", grade)"
   ]
  },
  {
   "cell_type": "code",
   "execution_count": null,
   "id": "96759ac5-3a12-4a2e-ad55-8939c23495e0",
   "metadata": {},
   "outputs": [],
   "source": []
  }
 ],
 "metadata": {
  "kernelspec": {
   "display_name": "Python 3 (ipykernel)",
   "language": "python",
   "name": "python3"
  },
  "language_info": {
   "codemirror_mode": {
    "name": "ipython",
    "version": 3
   },
   "file_extension": ".py",
   "mimetype": "text/x-python",
   "name": "python",
   "nbconvert_exporter": "python",
   "pygments_lexer": "ipython3",
   "version": "3.13.5"
  }
 },
 "nbformat": 4,
 "nbformat_minor": 5
}
